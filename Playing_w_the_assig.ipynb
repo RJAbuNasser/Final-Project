{
  "nbformat": 4,
  "nbformat_minor": 0,
  "metadata": {
    "colab": {
      "provenance": [],
      "authorship_tag": "ABX9TyNOQ6yPPsGUnBlhdNrRUMSE",
      "include_colab_link": true
    },
    "kernelspec": {
      "name": "python3",
      "display_name": "Python 3"
    },
    "language_info": {
      "name": "python"
    }
  },
  "cells": [
    {
      "cell_type": "markdown",
      "metadata": {
        "id": "view-in-github",
        "colab_type": "text"
      },
      "source": [
        "<a href=\"https://colab.research.google.com/github/RJAbuNasser/Final-Project/blob/main/Playing_w_the_assig.ipynb\" target=\"_parent\"><img src=\"https://colab.research.google.com/assets/colab-badge.svg\" alt=\"Open In Colab\"/></a>"
      ]
    },
    {
      "cell_type": "code",
      "execution_count": 22,
      "metadata": {
        "id": "CH77B3QVNMcM"
      },
      "outputs": [],
      "source": [
        "import numpy as np\n",
        "import pandas as pd\n",
        "import seaborn as sns\n",
        "import matplotlib.pyplot as plt\n",
        "from scipy.stats import ttest_ind, shapiro, wilcoxon, friedmanchisquare\n",
        "import scikit_posthocs as sp\n",
        "import zipfile"
      ]
    },
    {
      "cell_type": "code",
      "source": [
        "def plot_data(data, title_prefix):\n",
        "    fig, axes = plt.subplots(1, 4, figsize=(24, 6))\n",
        "    sns.histplot(data, bins=20, kde=True, ax=axes[0])\n",
        "    axes[0].set_title(f'{title_prefix} Histogram - KDE')\n",
        "    sns.boxplot(data=data, ax=axes[1])\n",
        "    axes[1].set_title(f'{title_prefix} Boxplot')\n",
        "    sns.violinplot(data=data, ax=axes[2])\n",
        "    axes[2].set_title(f'{title_prefix} Violin Plot')\n",
        "    sns.scatterplot(x=range(len(data)), y=data, ax=axes[3])\n",
        "    axes[3].set_title(f'{title_prefix} Scatter Plot')\n",
        "    plt.tight_layout()\n",
        "    plt.show()"
      ],
      "metadata": {
        "id": "MYjm8TefNsQh"
      },
      "execution_count": 23,
      "outputs": []
    },
    {
      "cell_type": "code",
      "source": [
        "\n",
        "def test_normality(data):\n",
        "    results = {}\n",
        "    for group, values in data.items():\n",
        "        if len(values) >= 3:\n",
        "            stat, p_value = shapiro(values)\n",
        "            results[group] = p_value > 0.05\n",
        "        else:\n",
        "            results[group] = None\n",
        "    return results"
      ],
      "metadata": {
        "id": "DZXuf4xtSS1M"
      },
      "execution_count": 24,
      "outputs": []
    },
    {
      "cell_type": "code",
      "source": [
        "def ttest(data, reference):\n",
        "    results = {}\n",
        "    for group, values in data.items():\n",
        "        if group != reference and len(data[reference]) == len(values):\n",
        "            stat, p_value = ttest_ind(data[reference], values)\n",
        "            results[group] = p_value\n",
        "    return results"
      ],
      "metadata": {
        "id": "6S1EWi4l8e7S"
      },
      "execution_count": 25,
      "outputs": []
    },
    {
      "cell_type": "code",
      "source": [
        "def perform_wilcoxon(data, reference):\n",
        "    results = {}\n",
        "    for group, values in data.items():\n",
        "        if group != reference and len(data[reference]) == len(values):\n",
        "            stat, p_value = wilcoxon(data[reference], values)\n",
        "            results[group] = p_value\n",
        "    return results"
      ],
      "metadata": {
        "id": "XrxtpXxu4Kro"
      },
      "execution_count": 26,
      "outputs": []
    },
    {
      "cell_type": "code",
      "source": [
        "def perform_friedman(data):\n",
        "    values = [data[group] for group in data]\n",
        "    stat, p_value = friedmanchisquare(*values)\n",
        "    return stat, p_value"
      ],
      "metadata": {
        "id": "ZbAh8eJ14O_V"
      },
      "execution_count": 11,
      "outputs": []
    },
    {
      "cell_type": "code",
      "source": [
        "def post_hoc_analysis(data, alpha=0.05):\n",
        "    groups = list(data.keys())\n",
        "    data_array = np.array([data[group] for group in groups]).T\n",
        "    bonferroni = sp.posthoc_dunn(data_array, p_adjust='bonferroni')\n",
        "    holm = sp.posthoc_dunn(data_array, p_adjust='holm')\n",
        "    holland = sp.posthoc_dunn(data_array, p_adjust='holland')\n",
        "    hochberg = sp.posthoc_dunn(data_array, p_adjust='hochberg')\n",
        "    hommel = sp.posthoc_dunn(data_array, p_adjust='hommel')\n",
        "    return {\n",
        "        'Bonferroni': bonferroni,\n",
        "        'Holm': holm,\n",
        "        'Holland': holland,\n",
        "        'Hochberg': hochberg,\n",
        "        'Hommel': hommel\n",
        "    }"
      ],
      "metadata": {
        "id": "P3vafLMP4Skz"
      },
      "execution_count": 12,
      "outputs": []
    },
    {
      "cell_type": "code",
      "source": [
        "def process_txt(file, actual_file, algorithm_folder):\n",
        "    data = np.loadtxt(file, delimiter=' ')\n",
        "    actual = np.loadtxt(actual_file, delimiter=' ')\n",
        "    merrors = data - actual\n",
        "    return {algorithm_folder: merrors.tolist()}"
      ],
      "metadata": {
        "id": "R6_0iihA4WX8"
      },
      "execution_count": 13,
      "outputs": []
    },
    {
      "cell_type": "code",
      "source": [
        "def process_xlsx(file, actual_file, algorithm_folder):\n",
        "    df = pd.read_excel(file, sheet_name=None)\n",
        "    actual = pd.read_excel(actual_file, sheet_name=None)\n",
        "    merrors = {}\n",
        "    for sheet_name, sheet_df in df.items():\n",
        "        actual_sheet = actual[sheet_name]\n",
        "        merrors[sheet_name] = (sheet_df.iloc[:, 1] - actual_sheet.iloc[:, 1]).tolist()\n",
        "    return {f\"{algorithm_folder}_{sheet_name}\": value for sheet_name, value in merrors.items()}"
      ],
      "metadata": {
        "id": "1xjyzbw_4a8p"
      },
      "execution_count": 14,
      "outputs": []
    },
    {
      "cell_type": "code",
      "source": [
        "def analyze_grouped_data(data, reference_group, output_file_prefix):\n",
        "    summary = []\n",
        "    for group, values in data.items():\n",
        "        summary.append({\n",
        "            \"Group\": group,\n",
        "            \"Mean Error\": np.mean(values),\n",
        "            \"Std Dev\": np.std(values),\n",
        "            \"Normality\": test_normality({group: values})[group]\n",
        "        })\n",
        "    friedman_stat, friedman_p = perform_friedman(data)\n",
        "    wilcoxon_results = perform_wilcoxon(data, reference_group)\n",
        "    post_hoc_results = post_hoc_analysis(data)\n",
        "    summary_df = pd.DataFrame(summary)\n",
        "    summary_df.to_excel(f\"{output_file_prefix}_Summary.xlsx\", index=False)\n",
        "    for method, results_df in post_hoc_results.items():\n",
        "        results_df.to_excel(f\"{output_file_prefix}_PostHoc_{method}.xlsx\", index=True)"
      ],
      "metadata": {
        "id": "lcu--57n4hNZ"
      },
      "execution_count": 15,
      "outputs": []
    },
    {
      "cell_type": "code",
      "source": [
        "def process_zip(data_zip_path, actual_values_zip_path):\n",
        "    with zipfile.ZipFile(data_zip_path, 'r') as data_zip, zipfile.ZipFile(actual_values_zip_path, 'r') as actual_zip:\n",
        "        for folder in [\"10-D\", \"20-D\"]:\n",
        "            files_by_folder = {file.split('/')[0]: [] for file in data_zip.namelist() if folder in file}\n",
        "            for file in data_zip.namelist():\n",
        "                if folder in file:\n",
        "                    files_by_folder[file.split('/')[0]].append(file)\n",
        "            for algorithm_folder, files in files_by_folder.items():\n",
        "                reference_group = None\n",
        "                for i, file in enumerate(files):\n",
        "                    if file in data_zip.namelist() and file in actual_zip.namelist():\n",
        "                        folder_name = file.split('/')[0]\n",
        "                        if folder_name.startswith('CEC'):\n",
        "                            print(f\"Entering CEC folder: {folder_name}\")\n",
        "                        elif folder_name.startswith('com'):\n",
        "                            print(f\"Entering com folder: {folder_name}\")\n",
        "                        elif 'GECCO1' in folder_name:\n",
        "                            print(f\"Entering GECCO1 folder: {folder_name}\")\n",
        "                        elif folder_name.startswith('report'):\n",
        "                            print(f\"Entering report folder: {folder_name}\")\n",
        "\n",
        "                        if file.endswith('.txt'):\n",
        "                            print(f\"Entering txt file: {file}\")\n",
        "                            with data_zip.open(file) as f, actual_zip.open(file) as af:\n",
        "                                data = process_txt(f, af, f\"{algorithm_folder}_{folder}_{i}\")\n",
        "                        elif file.endswith('.xlsx'):\n",
        "                            print(f\"Entering xlsx file: {file}\")\n",
        "                            with data_zip.open(file) as f, actual_zip.open(file) as af:\n",
        "                                data = process_xlsx(f, af, f\"{algorithm_folder}_{folder}_{i}\")\n",
        "\n",
        "                        if i == 0:\n",
        "                            reference_group = list(data.keys())[0]\n",
        "\n",
        "                        output_file_prefix = f\"{algorithm_folder}_{folder}_Analysis_{i}\"\n",
        "                        analyze_grouped_data(data, reference_group, output_file_prefix)"
      ],
      "metadata": {
        "id": "dM7r3Edi4oex"
      },
      "execution_count": 27,
      "outputs": []
    },
    {
      "cell_type": "code",
      "source": [
        "process_zip(\"Data-All Algos.zip\", \"Actual Values.zip\")"
      ],
      "metadata": {
        "id": "CowmMkCS4sGx"
      },
      "execution_count": 28,
      "outputs": []
    }
  ]
}