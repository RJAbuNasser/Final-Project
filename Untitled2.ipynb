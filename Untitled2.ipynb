{
  "nbformat": 4,
  "nbformat_minor": 0,
  "metadata": {
    "colab": {
      "provenance": [],
      "authorship_tag": "ABX9TyOeqmL2ZUT/AY7f/3mK60WH",
      "include_colab_link": true
    },
    "kernelspec": {
      "name": "python3",
      "display_name": "Python 3"
    },
    "language_info": {
      "name": "python"
    }
  },
  "cells": [
    {
      "cell_type": "markdown",
      "metadata": {
        "id": "view-in-github",
        "colab_type": "text"
      },
      "source": [
        "<a href=\"https://colab.research.google.com/github/RJAbuNasser/Final-Project/blob/main/Untitled2.ipynb\" target=\"_parent\"><img src=\"https://colab.research.google.com/assets/colab-badge.svg\" alt=\"Open In Colab\"/></a>"
      ]
    },
    {
      "cell_type": "code",
      "execution_count": null,
      "metadata": {
        "colab": {
          "base_uri": "https://localhost:8080/"
        },
        "id": "UouG1wnQ_x7b",
        "outputId": "555052e3-d69b-437c-f549-0fc7d1492ee5"
      },
      "outputs": [
        {
          "output_type": "stream",
          "name": "stdout",
          "text": [
            "p\n"
          ]
        }
      ],
      "source": [
        "print(\"p\")"
      ]
    },
    {
      "cell_type": "code",
      "source": [
        "# prompt: shapiro code using def\n",
        "\n",
        "from scipy import stats\n",
        "\n",
        "def shapiro_wilk_test(data):\n",
        "    \"\"\"\n",
        "    Performs the Shapiro-Wilk test for normality.\n",
        "\n",
        "    Args:\n",
        "    data: A 1D numpy array or list of data values.\n",
        "\n",
        "    Returns:\n",
        "    A tuple containing the test statistic and p-value.\n",
        "    \"\"\"\n",
        "    statistic, p_value = stats.shapiro(data)\n",
        "    return statistic, p_value"
      ],
      "metadata": {
        "id": "XU3RsjjTFb9k"
      },
      "execution_count": null,
      "outputs": []
    }
  ]
}