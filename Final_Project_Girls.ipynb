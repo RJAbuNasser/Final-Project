{
  "nbformat": 4,
  "nbformat_minor": 0,
  "metadata": {
    "colab": {
      "provenance": [],
      "include_colab_link": true
    },
    "kernelspec": {
      "name": "python3",
      "display_name": "Python 3"
    },
    "language_info": {
      "name": "python"
    }
  },
  "cells": [
    {
      "cell_type": "markdown",
      "metadata": {
        "id": "view-in-github",
        "colab_type": "text"
      },
      "source": [
        "<a href=\"https://colab.research.google.com/github/RJAbuNasser/Final-Project/blob/main/Final_Project_Girls.ipynb\" target=\"_parent\"><img src=\"https://colab.research.google.com/assets/colab-badge.svg\" alt=\"Open In Colab\"/></a>"
      ]
    },
    {
      "cell_type": "markdown",
      "source": [
        "**Improting Libraries**"
      ],
      "metadata": {
        "id": "KX2pGEn9mySq"
      }
    },
    {
      "cell_type": "code",
      "source": [
        "import zipfile\n",
        "import pandas as pd\n",
        "import io\n",
        "import numpy as np\n",
        "import matplotlib.pyplot as plt\n",
        "import seaborn as sns\n",
        "import scipy.stats as stats\n",
        "from scipy.stats import shapiro"
      ],
      "metadata": {
        "id": "q6p6a_JJmx-y"
      },
      "execution_count": 1,
      "outputs": []
    },
    {
      "cell_type": "markdown",
      "source": [
        "**Core Work**"
      ],
      "metadata": {
        "id": "S0ZRv6zGl9Rl"
      }
    },
    {
      "cell_type": "code",
      "execution_count": 5,
      "metadata": {
        "id": "5DmHZahBFbJY",
        "colab": {
          "base_uri": "https://localhost:8080/",
          "height": 329
        },
        "outputId": "8e123b20-af78-4160-8f03-0d6278963ee2"
      },
      "outputs": [
        {
          "output_type": "error",
          "ename": "FileNotFoundError",
          "evalue": "[Errno 2] No such file or directory: 'Data-All Algos.zip'",
          "traceback": [
            "\u001b[0;31m---------------------------------------------------------------------------\u001b[0m",
            "\u001b[0;31mFileNotFoundError\u001b[0m                         Traceback (most recent call last)",
            "\u001b[0;32m<ipython-input-5-a163a2e333bc>\u001b[0m in \u001b[0;36m<cell line: 68>\u001b[0;34m()\u001b[0m\n\u001b[1;32m     66\u001b[0m                         \u001b[0menter_xlsx\u001b[0m\u001b[0;34m(\u001b[0m\u001b[0mfile\u001b[0m\u001b[0;34m)\u001b[0m\u001b[0;34m\u001b[0m\u001b[0;34m\u001b[0m\u001b[0m\n\u001b[1;32m     67\u001b[0m \u001b[0;34m\u001b[0m\u001b[0m\n\u001b[0;32m---> 68\u001b[0;31m \u001b[0menter_zip\u001b[0m\u001b[0;34m(\u001b[0m\u001b[0;34m\"Data-All Algos.zip\"\u001b[0m\u001b[0;34m)\u001b[0m\u001b[0;34m\u001b[0m\u001b[0;34m\u001b[0m\u001b[0m\n\u001b[0m",
            "\u001b[0;32m<ipython-input-5-a163a2e333bc>\u001b[0m in \u001b[0;36menter_zip\u001b[0;34m(zip_path)\u001b[0m\n\u001b[1;32m     45\u001b[0m \u001b[0;34m\u001b[0m\u001b[0m\n\u001b[1;32m     46\u001b[0m \u001b[0;32mdef\u001b[0m \u001b[0menter_zip\u001b[0m\u001b[0;34m(\u001b[0m\u001b[0mzip_path\u001b[0m\u001b[0;34m)\u001b[0m\u001b[0;34m:\u001b[0m\u001b[0;34m\u001b[0m\u001b[0;34m\u001b[0m\u001b[0m\n\u001b[0;32m---> 47\u001b[0;31m     \u001b[0;32mwith\u001b[0m \u001b[0mzipfile\u001b[0m\u001b[0;34m.\u001b[0m\u001b[0mZipFile\u001b[0m\u001b[0;34m(\u001b[0m\u001b[0mzip_path\u001b[0m\u001b[0;34m,\u001b[0m \u001b[0;34m'r'\u001b[0m\u001b[0;34m)\u001b[0m \u001b[0;32mas\u001b[0m \u001b[0mzip_ref\u001b[0m\u001b[0;34m:\u001b[0m\u001b[0;34m\u001b[0m\u001b[0;34m\u001b[0m\u001b[0m\n\u001b[0m\u001b[1;32m     48\u001b[0m         \u001b[0;32mfor\u001b[0m \u001b[0mzip_file\u001b[0m \u001b[0;32min\u001b[0m \u001b[0mzip_ref\u001b[0m\u001b[0;34m.\u001b[0m\u001b[0mnamelist\u001b[0m\u001b[0;34m(\u001b[0m\u001b[0;34m)\u001b[0m\u001b[0;34m:\u001b[0m\u001b[0;34m\u001b[0m\u001b[0;34m\u001b[0m\u001b[0m\n\u001b[1;32m     49\u001b[0m             \u001b[0;32mif\u001b[0m \u001b[0;34m'Results'\u001b[0m \u001b[0;32min\u001b[0m \u001b[0mzip_file\u001b[0m \u001b[0;32mor\u001b[0m \u001b[0;34m'-D'\u001b[0m \u001b[0;32min\u001b[0m \u001b[0mzip_file\u001b[0m\u001b[0;34m:\u001b[0m\u001b[0;34m\u001b[0m\u001b[0;34m\u001b[0m\u001b[0m\n",
            "\u001b[0;32m/usr/lib/python3.10/zipfile.py\u001b[0m in \u001b[0;36m__init__\u001b[0;34m(self, file, mode, compression, allowZip64, compresslevel, strict_timestamps)\u001b[0m\n\u001b[1;32m   1252\u001b[0m             \u001b[0;32mwhile\u001b[0m \u001b[0;32mTrue\u001b[0m\u001b[0;34m:\u001b[0m\u001b[0;34m\u001b[0m\u001b[0;34m\u001b[0m\u001b[0m\n\u001b[1;32m   1253\u001b[0m                 \u001b[0;32mtry\u001b[0m\u001b[0;34m:\u001b[0m\u001b[0;34m\u001b[0m\u001b[0;34m\u001b[0m\u001b[0m\n\u001b[0;32m-> 1254\u001b[0;31m                     \u001b[0mself\u001b[0m\u001b[0;34m.\u001b[0m\u001b[0mfp\u001b[0m \u001b[0;34m=\u001b[0m \u001b[0mio\u001b[0m\u001b[0;34m.\u001b[0m\u001b[0mopen\u001b[0m\u001b[0;34m(\u001b[0m\u001b[0mfile\u001b[0m\u001b[0;34m,\u001b[0m \u001b[0mfilemode\u001b[0m\u001b[0;34m)\u001b[0m\u001b[0;34m\u001b[0m\u001b[0;34m\u001b[0m\u001b[0m\n\u001b[0m\u001b[1;32m   1255\u001b[0m                 \u001b[0;32mexcept\u001b[0m \u001b[0mOSError\u001b[0m\u001b[0;34m:\u001b[0m\u001b[0;34m\u001b[0m\u001b[0;34m\u001b[0m\u001b[0m\n\u001b[1;32m   1256\u001b[0m                     \u001b[0;32mif\u001b[0m \u001b[0mfilemode\u001b[0m \u001b[0;32min\u001b[0m \u001b[0mmodeDict\u001b[0m\u001b[0;34m:\u001b[0m\u001b[0;34m\u001b[0m\u001b[0;34m\u001b[0m\u001b[0m\n",
            "\u001b[0;31mFileNotFoundError\u001b[0m: [Errno 2] No such file or directory: 'Data-All Algos.zip'"
          ]
        }
      ],
      "source": [
        "def plot_data(data):\n",
        "    data = pd.to_numeric(data, errors='coerce')\n",
        "    data = data.dropna()\n",
        "    result = shapiro(data)\n",
        "    alpha = 0.05\n",
        "    print(\"Shapiro-Wilk Normality Check Test:\")\n",
        "    print(f\"Statistic: {result.statistic:.3f}, p-value: {result.pvalue:.3f}\")\n",
        "    if result.pvalue > alpha:\n",
        "        print(f\"At {alpha:.3f} significance level: p-value = {result.pvalue:.3f} > {alpha}, data looks normally distributed\")\n",
        "    else:\n",
        "        print(f\"At {alpha:.3f} significance level: p-value = {result.pvalue:.3f} <= {alpha}, data does not look normally distributed\")\n",
        "\n",
        "    fig, axs = plt.subplots(1, 3, figsize=(18, 6))\n",
        "    sns.histplot(data, bins=20, kde=True, ax=axs[0])\n",
        "    axs[0].set_title('Histogram - KDE')\n",
        "    axs[0].tick_params(axis='x', labelrotation=45)\n",
        "    axs[0].tick_params(axis='y', labelrotation=45)\n",
        "\n",
        "    sns.boxplot(data=data, ax=axs[1])\n",
        "    axs[1].set_title('Boxplot')\n",
        "    axs[1].tick_params(axis='x', labelrotation=45)\n",
        "\n",
        "    sns.violinplot(data=data, ax=axs[2])\n",
        "    axs[2].set_title('Violin Plot')\n",
        "    axs[2].tick_params(axis='x', labelrotation=45)\n",
        "    axs[2].tick_params(axis='y', labelrotation=45)\n",
        "\n",
        "    plt.subplots_adjust(wspace=0.3, hspace=0.3)\n",
        "    plt.tight_layout(rect=[0, 0, 1, 0.96])\n",
        "    plt.show()\n",
        "\n",
        "def enter_txt(file):\n",
        "    lines = file.readlines()\n",
        "    data = [line.decode('utf-8').strip().replace(',', ' ').split() for line in lines]\n",
        "    results = pd.DataFrame(data)\n",
        "    results.iloc[:, 0] = pd.to_numeric(results.iloc[:, 0], errors='coerce')\n",
        "    plot_data(results.iloc[:, 0])\n",
        "\n",
        "def enter_xlsx(file):\n",
        "    df = pd.read_excel(io.BytesIO(file.read()), sheet_name=None)\n",
        "    for sheet_name, sheet_data in df.items():\n",
        "        print(f\"Sheet: {sheet_name}\")\n",
        "        sheet_data.iloc[:, 0] = pd.to_numeric(sheet_data.iloc[:, 0], errors='coerce')\n",
        "        plot_data(sheet_data.iloc[:, 0])\n",
        "\n",
        "def enter_zip(zip_path):\n",
        "    with zipfile.ZipFile(zip_path, 'r') as zip_ref:\n",
        "        for zip_file in zip_ref.namelist():\n",
        "            if 'Results' in zip_file or '-D' in zip_file:\n",
        "                folder_name = zip_file.split('/')[0]\n",
        "                if folder_name.startswith('CEC'):\n",
        "                    print(f\"Entering CEC folder: {folder_name}\")\n",
        "                elif folder_name.startswith('com'):\n",
        "                    print(f\"Entering com folder: {folder_name}\")\n",
        "                elif 'GECCO1' in folder_name:\n",
        "                    print(f\"Entering GECCO1 folder: {folder_name}\")\n",
        "                elif folder_name.startswith('report'):\n",
        "                    print(f\"Entering report folder: {folder_name}\")\n",
        "                if zip_file.endswith('.txt'):\n",
        "                    print(f\"Entering txt file: {zip_file}\")\n",
        "                    with zip_ref.open(zip_file) as file:\n",
        "                        enter_txt(file)\n",
        "                elif zip_file.endswith('.xlsx'):\n",
        "                    print(f\"Entering xlsx file: {zip_file}\")\n",
        "                    with zip_ref.open(zip_file) as file:\n",
        "                        enter_xlsx(file)\n",
        "\n",
        "enter_zip(\"Data-All Algos.zip\")"
      ]
    },
    {
      "cell_type": "markdown",
      "source": [
        "**STD & MErr**"
      ],
      "metadata": {
        "id": "RNin7LooaTHk"
      }
    },
    {
      "cell_type": "code",
      "source": [
        "#till we recieve the actual values from Dr. Mostafa"
      ],
      "metadata": {
        "id": "7kGEgBwvaSro"
      },
      "execution_count": null,
      "outputs": []
    },
    {
      "cell_type": "markdown",
      "source": [
        "**Normality Check Tests**"
      ],
      "metadata": {
        "id": "Xgd8fNAHaeMV"
      }
    },
    {
      "cell_type": "code",
      "source": [
        "!pip install scikit_posthocs\n",
        "import numpy as np\n",
        "import pandas as pd\n",
        "import seaborn as sns\n",
        "import matplotlib.pyplot as plt\n",
        "from scipy.stats import ttest_ind, shapiro, wilcoxon, friedmanchisquare\n",
        "import scikit_posthocs as sp\n",
        "import zipfile"
      ],
      "metadata": {
        "colab": {
          "base_uri": "https://localhost:8080/"
        },
        "id": "_kOYN_BvTAO3",
        "outputId": "a9e83d99-d8dd-45a4-9f34-ccfaf1778544"
      },
      "execution_count": 4,
      "outputs": [
        {
          "output_type": "stream",
          "name": "stdout",
          "text": [
            "Collecting scikit_posthocs\n",
            "  Downloading scikit_posthocs-0.11.2-py3-none-any.whl.metadata (5.8 kB)\n",
            "Requirement already satisfied: numpy in /usr/local/lib/python3.10/dist-packages (from scikit_posthocs) (1.26.4)\n",
            "Requirement already satisfied: scipy>=1.9.0 in /usr/local/lib/python3.10/dist-packages (from scikit_posthocs) (1.13.1)\n",
            "Requirement already satisfied: statsmodels in /usr/local/lib/python3.10/dist-packages (from scikit_posthocs) (0.14.4)\n",
            "Requirement already satisfied: pandas>=0.20.0 in /usr/local/lib/python3.10/dist-packages (from scikit_posthocs) (2.2.2)\n",
            "Requirement already satisfied: seaborn in /usr/local/lib/python3.10/dist-packages (from scikit_posthocs) (0.13.2)\n",
            "Requirement already satisfied: matplotlib in /usr/local/lib/python3.10/dist-packages (from scikit_posthocs) (3.8.0)\n",
            "Requirement already satisfied: python-dateutil>=2.8.2 in /usr/local/lib/python3.10/dist-packages (from pandas>=0.20.0->scikit_posthocs) (2.8.2)\n",
            "Requirement already satisfied: pytz>=2020.1 in /usr/local/lib/python3.10/dist-packages (from pandas>=0.20.0->scikit_posthocs) (2024.2)\n",
            "Requirement already satisfied: tzdata>=2022.7 in /usr/local/lib/python3.10/dist-packages (from pandas>=0.20.0->scikit_posthocs) (2024.2)\n",
            "Requirement already satisfied: contourpy>=1.0.1 in /usr/local/lib/python3.10/dist-packages (from matplotlib->scikit_posthocs) (1.3.1)\n",
            "Requirement already satisfied: cycler>=0.10 in /usr/local/lib/python3.10/dist-packages (from matplotlib->scikit_posthocs) (0.12.1)\n",
            "Requirement already satisfied: fonttools>=4.22.0 in /usr/local/lib/python3.10/dist-packages (from matplotlib->scikit_posthocs) (4.55.3)\n",
            "Requirement already satisfied: kiwisolver>=1.0.1 in /usr/local/lib/python3.10/dist-packages (from matplotlib->scikit_posthocs) (1.4.7)\n",
            "Requirement already satisfied: packaging>=20.0 in /usr/local/lib/python3.10/dist-packages (from matplotlib->scikit_posthocs) (24.2)\n",
            "Requirement already satisfied: pillow>=6.2.0 in /usr/local/lib/python3.10/dist-packages (from matplotlib->scikit_posthocs) (11.0.0)\n",
            "Requirement already satisfied: pyparsing>=2.3.1 in /usr/local/lib/python3.10/dist-packages (from matplotlib->scikit_posthocs) (3.2.0)\n",
            "Requirement already satisfied: patsy>=0.5.6 in /usr/local/lib/python3.10/dist-packages (from statsmodels->scikit_posthocs) (1.0.1)\n",
            "Requirement already satisfied: six>=1.5 in /usr/local/lib/python3.10/dist-packages (from python-dateutil>=2.8.2->pandas>=0.20.0->scikit_posthocs) (1.17.0)\n",
            "Downloading scikit_posthocs-0.11.2-py3-none-any.whl (33 kB)\n",
            "Installing collected packages: scikit_posthocs\n",
            "Successfully installed scikit_posthocs-0.11.2\n"
          ]
        }
      ]
    },
    {
      "cell_type": "code",
      "source": [
        "def plot_data(data):\n",
        "    data = pd.to_numeric(data, errors='coerce')\n",
        "    data = data.dropna()\n",
        "    result = shapiro(data)\n",
        "    alpha = 0.05\n",
        "    print(\"Shapiro-Wilk Normality Check Test:\")\n",
        "    print(f\"Statistic: {result.statistic:.3f}, p-value: {result.pvalue:.3f}\")\n",
        "    if result.pvalue > alpha:\n",
        "        print(f\"At {alpha:.3f} significance level: p-value = {result.pvalue:.3f} > {alpha}, data looks normally distributed\")\n",
        "    else:\n",
        "        print(f\"At {alpha:.3f} significance level: p-value = {result.pvalue:.3f} <= {alpha}, data does not look normally distributed\")\n",
        "\n",
        "    fig, axs = plt.subplots(1, 3, figsize=(18, 6))\n",
        "    sns.histplot(data, bins=20, kde=True, ax=axs[0])\n",
        "    axs[0].set_title('Histogram - KDE')\n",
        "    axs[0].tick_params(axis='x', labelrotation=45)\n",
        "    axs[0].tick_params(axis='y', labelrotation=45)\n",
        "\n",
        "    sns.boxplot(data=data, ax=axs[1])\n",
        "    axs[1].set_title('Boxplot')\n",
        "    axs[1].tick_params(axis='x', labelrotation=45)\n",
        "\n",
        "    sns.violinplot(data=data, ax=axs[2])\n",
        "    axs[2].set_title('Violin Plot')\n",
        "    axs[2].tick_params(axis='x', labelrotation=45)\n",
        "    axs[2].tick_params(axis='y', labelrotation=45)\n",
        "\n",
        "    plt.subplots_adjust(wspace=0.3, hspace=0.3)\n",
        "    plt.tight_layout(rect=[0, 0, 1, 0.96])\n",
        "    plt.show()\n",
        "def ttest(data, reference):\n",
        "    results = {}\n",
        "    for group, values in data.items():\n",
        "        if group != reference and len(data[reference]) == len(values):\n",
        "            stat, p_value = ttest_ind(data[reference], values)\n",
        "            results[group] = p_value\n",
        "    return results\n",
        "def perform_wilcoxon(data, reference):\n",
        "    results = {}\n",
        "    for group, values in data.items():\n",
        "        if group != reference and len(data[reference]) == len(values):\n",
        "            stat, p_value = wilcoxon(data[reference], values)\n",
        "            results[group] = p_value\n",
        "    return results\n",
        "def perform_friedman(data):\n",
        "    values = [data[group] for group in data]\n",
        "    stat, p_value = friedmanchisquare(*values)\n",
        "    return stat, p_value\n",
        "def post_hoc_analysis(data, alpha=0.05):\n",
        "    groups = list(data.keys())\n",
        "    data_array = np.array([data[group] for group in groups]).T\n",
        "    bonferroni = sp.posthoc_dunn(data_array, p_adjust='bonferroni')\n",
        "    holm = sp.posthoc_dunn(data_array, p_adjust='holm')\n",
        "    holland = sp.posthoc_dunn(data_array, p_adjust='holland')\n",
        "    hochberg = sp.posthoc_dunn(data_array, p_adjust='hochberg')\n",
        "    hommel = sp.posthoc_dunn(data_array, p_adjust='hommel')\n",
        "    return {\n",
        "        'Bonferroni': bonferroni,\n",
        "        'Holm': holm,\n",
        "        'Holland': holland,\n",
        "        'Hochberg': hochberg,\n",
        "        'Hommel': hommel\n",
        "    }\n",
        "\n",
        "####################################################################\n",
        "\n",
        "def process_txt(file, actual_file, algorithm_folder):\n",
        "    data = np.loadtxt(file, delimiter=' ')\n",
        "    actual = np.loadtxt(actual_file, delimiter=' ')\n",
        "    merrors = data - actual\n",
        "    return {algorithm_folder: merrors.tolist()}\n",
        "def process_xlsx(file, actual_file, algorithm_folder):\n",
        "    df = pd.read_excel(file, sheet_name=None)\n",
        "    actual = pd.read_excel(actual_file, sheet_name=None)\n",
        "    merrors = {}\n",
        "    for sheet_name, sheet_df in df.items():\n",
        "        actual_sheet = actual[sheet_name]\n",
        "        merrors[sheet_name] = (sheet_df.iloc[:, 1] - actual_sheet.iloc[:, 1]).tolist()\n",
        "    return {f\"{algorithm_folder}_{sheet_name}\": value for sheet_name, value in merrors.items()}\n",
        "def analyze_grouped_data(data, reference_group, output_file_prefix, use_summary_files=False):\n",
        "    if use_summary_files:\n",
        "        summary_file = f\"{output_file_prefix}_Summary.xlsx\"\n",
        "        summary_df = pd.read_excel(summary_file)\n",
        "        summarized_data = {row['Group']: [row['Mean Error']] for index, row in summary_df.iterrows()}\n",
        "\n",
        "    else:\n",
        "        summarized_data = data\n",
        "\n",
        "    summary = []\n",
        "    for group, values in summarized_data.items():\n",
        "        summary.append({\n",
        "            \"Group\": group,\n",
        "            \"Mean Error\": np.mean(values),\n",
        "            \"Std Dev\": np.std(values),\n",
        "            \"Normality\": test_normality({group: values})[group]\n",
        "        })\n",
        "\n",
        "    friedman_stat, friedman_p = perform_friedman(summarized_data)\n",
        "    wilcoxon_results = perform_wilcoxon(summarized_data, reference_group)\n",
        "    post_hoc_results = post_hoc_analysis(summarized_data)\n",
        "\n",
        "    summary_df = pd.DataFrame(summary)\n",
        "    summary_df.to_excel(f\"{output_file_prefix}_Summary.xlsx\", index=False)\n",
        "\n",
        "    for method, results_df in post_hoc_results.items():\n",
        "        results_df.to_excel(f\"{output_file_prefix}_PostHoc_{method}.xlsx\", index=True)\n",
        "def process_zip(data_zip_path, actual_values_zip_path, use_summary_files=False):\n",
        "    with zipfile.ZipFile(data_zip_path, 'r') as data_zip, zipfile.ZipFile(actual_values_zip_path, 'r') as actual_zip:\n",
        "        for folder in [\"10-D\", \"20-D\"]:\n",
        "            files_by_folder = {file.split('/')[0]: [] for file in data_zip.namelist() if folder in file}\n",
        "            for file in data_zip.namelist():\n",
        "                if folder in file:\n",
        "                    files_by_folder[file.split('/')[0]].append(file)\n",
        "            for algorithm_folder, files in files_by_folder.items():\n",
        "                reference_group = None\n",
        "                for i, file in enumerate(files):\n",
        "                    if file in data_zip.namelist() and file in actual_zip.namelist():\n",
        "                        folder_name = file.split('/')[0]\n",
        "                        if file.endswith('.txt'):\n",
        "                            with data_zip.open(file) as f, actual_zip.open(file) as af:\n",
        "                                data = process_txt(f, af, f\"{algorithm_folder}_{folder}_{i}\")\n",
        "                        elif file.endswith('.xlsx'):\n",
        "                            with data_zip.open(file) as f, actual_zip.open(file) as af:\n",
        "                                data = process_xlsx(f, af, f\"{algorithm_folder}_{folder}_{i}\")\n",
        "\n",
        "                        if i == 0:\n",
        "                            reference_group = list(data.keys())[0]\n",
        "\n",
        "                        output_file_prefix = f\"{algorithm_folder}_{folder}_Analysis_{i}\"\n",
        "                        analyze_grouped_data(data, reference_group, output_file_prefix, use_summary_files)\n",
        "process_zip(\"Data-All Algos.zip\", \"Actual Values.zip\", use_summary_files=True)\n"
      ],
      "metadata": {
        "id": "sH1aY4gAP48q"
      },
      "execution_count": 8,
      "outputs": []
    }
  ]
}